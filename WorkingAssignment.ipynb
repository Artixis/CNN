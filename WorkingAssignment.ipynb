{
 "cells": [
  {
   "cell_type": "markdown",
   "metadata": {},
   "source": [
    "# Assignment 2 - CIFAR10 "
   ]
  },
  {
   "cell_type": "code",
   "execution_count": 70,
   "metadata": {},
   "outputs": [],
   "source": [
    "import os\n",
    "import torch\n",
    "import random\n",
    "import numpy as np\n",
    "from torch import nn\n",
    "import hiddenlayer as hl\n",
    "from torchviz import make_dot\n",
    "import matplotlib.pyplot as plt\n",
    "import matplotlib.lines as mlines\n",
    "from torchvision import transforms\n",
    "from torch.utils.data import DataLoader\n",
    "from torchvision.datasets import CIFAR10\n",
    "from matplotlib.offsetbox import OffsetImage, AnnotationBbox"
   ]
  },
  {
   "cell_type": "markdown",
   "metadata": {},
   "source": [
    "## Task 1 \n",
    "\n",
    "- Select 3 random classes with 100 samples from each.\n",
    "\n",
    "- Start by creating a random number generator. This will be used in tasks 3 and 4\n",
    "too."
   ]
  },
  {
   "cell_type": "code",
   "execution_count": 71,
   "metadata": {},
   "outputs": [],
   "source": [
    "# Takes in three parameters\n",
    "# nums = number of values we need, in task one it would be 3\n",
    "# start and stop is the range, i.e, (0,9)\n",
    "\n",
    "\n",
    "# Returns a list of unique randomly generator integers.\n",
    "\n",
    "def number_generator(nums, start, stop):\n",
    "    numbers = []\n",
    "    # This second list isn't necessary but can check doubles if want.\n",
    "    # There's probably a more efficient way to do this with hash-maps so doubles\n",
    "    # aren't created but I'm not sure.\n",
    "    doubles = []\n",
    "\n",
    "    while(len(numbers) < nums):\n",
    "        numR = random.randint(start,stop)\n",
    "        if numR in numbers:\n",
    "            doubles.append(numR)\n",
    "        else:\n",
    "            numbers.append(numR)\n",
    "    \n",
    "    return numbers"
   ]
  },
  {
   "cell_type": "code",
   "execution_count": 72,
   "metadata": {},
   "outputs": [],
   "source": [
    "# Use this to match the corresponding numbers in the dataset.\n",
    "classes=('plane', 'car', 'bird', 'cat', 'deer', 'dog', 'frog', 'horse', 'ship', 'truck')\n",
    "# Colours for plotting.\n",
    "classColour=('pink', 'red', 'darkorange', 'gold', 'lightgreen', 'mediumseagreen', 'lightskyblue', 'navy', 'rebeccapurple', 'darkred')\n",
    "# Individual markers for each class. \n",
    "classMarker=(\"o\", \"v\", \"h\", \"2\", \"s\", \"p\", \"P\", \"*\", \"X\", \"d\")"
   ]
  },
  {
   "cell_type": "code",
   "execution_count": 73,
   "metadata": {},
   "outputs": [
    {
     "name": "stdout",
     "output_type": "stream",
     "text": [
      "The classes selected are:\n",
      "1)  cat \n",
      "2)  bird \n",
      "3)  car\n"
     ]
    }
   ],
   "source": [
    "classNums = number_generator(3,0,9)\n",
    "print(\"The classes selected are:\\n1) \", classes[classNums[0]],\"\\n2) \", classes[classNums[1]],\"\\n3) \",classes[classNums[2]])"
   ]
  },
  {
   "cell_type": "markdown",
   "metadata": {},
   "source": [
    "Now that we have our three randoom classes, let's load in the CIFAR10 dataset and select all samples within those classes.\n",
    "<br>\n",
    "After these sets have been created, randomly select 100 samples from each of them. Combine these 3, 100 sample \n",
    "sets into one called *dataFull*."
   ]
  },
  {
   "cell_type": "code",
   "execution_count": 74,
   "metadata": {},
   "outputs": [
    {
     "name": "stdout",
     "output_type": "stream",
     "text": [
      "5000\n"
     ]
    }
   ],
   "source": [
    "cache = \"~/.cache.cifar\"\n",
    "data2 = CIFAR10(cache, transform = transforms.ToTensor())\n",
    "\n",
    "# Takes roughly 30 seconds.\n",
    "Set1 = [(data2[i][0], data2[i][1]) for i in range(len(data2)) if data2[i][1] == classNums[0]]\n",
    "\n",
    "Set2 = [(data2[i][0], data2[i][1]) for i in range(len(data2)) if data2[i][1] == classNums[1]]\n",
    "\n",
    "Set3 = [(data2[i][0], data2[i][1]) for i in range(len(data2)) if data2[i][1] == classNums[2]]\n",
    "print(len(Set2))\n",
    "\n",
    "Set1 = random.sample(Set1, 100)\n",
    "Set2 = random.sample(Set2, 100)\n",
    "Set3 = random.sample(Set3, 100)\n",
    "dataFull = Set1 + Set2 + Set3 "
   ]
  },
  {
   "cell_type": "code",
   "execution_count": 75,
   "metadata": {},
   "outputs": [],
   "source": [
    "train_data1 = dataFull"
   ]
  },
  {
   "cell_type": "markdown",
   "metadata": {},
   "source": [
    "Now explicitly name the X and y values for both the training and test sets where;\n",
    "<br>\n",
    "\n",
    "**X** is the data, the 32 by 32 RBG information. \n",
    "<br>\n",
    "\n",
    "**y** is the numerical indicator of class."
   ]
  },
  {
   "cell_type": "code",
   "execution_count": 76,
   "metadata": {},
   "outputs": [
    {
     "data": {
      "text/plain": [
       "torch.Size([300, 3, 32, 32])"
      ]
     },
     "execution_count": 76,
     "metadata": {},
     "output_type": "execute_result"
    }
   ],
   "source": [
    "ytrain = np.array([train_data1[i][1] for i in range(len(train_data1))])\n",
    "Xtrain = np.array([np.array(train_data1[i][0]) for i in range(len(train_data1))])\n",
    "\n",
    "Xtrain = torch.tensor(Xtrain).float()\n",
    "\n",
    "Xtrain.shape"
   ]
  },
  {
   "cell_type": "markdown",
   "metadata": {},
   "source": [
    "### Task 2 CNN Autoencoder\n",
    "<br>\n",
    "A very simple CNN autoencoder with a bottle-neck layer of 2 units.\n",
    "\n",
    "- I did a convolutional layer and a *dense* linear layer. \n",
    "\n",
    "- The class **autoCNN**  encodes and decodes given data using ReLU throughout. The data is flattened and unflattened \n",
    "where necessary.\n",
    "\n",
    "- The function **forward** runs through all the layers and flattens/unflattens, as well as performing a \n",
    "sigmoid activation function of the data at the end.\n",
    "\n",
    "- I didn't manually calculate what numbers I needed for the *unflatten* or the *denseCode* functions. Instead I \n",
    "just went off error messages to make it work.\n",
    "\n",
    "I probably could add more steps in each but since we only need to model to get embeddings I figured it's best to keep it simple and not break the code."
   ]
  },
  {
   "cell_type": "code",
   "execution_count": 77,
   "metadata": {},
   "outputs": [],
   "source": [
    "class autoCNN(nn.Module):\n",
    "    def __init__(self):\n",
    "        super().__init__()\n",
    "        \n",
    "        # Didn't think it was worth dropping data in the layers\n",
    "        self.encode = nn.Sequential(\n",
    "            nn.Conv2d(3,8,3,stride=2, padding=1),\n",
    "            nn.ReLU(True),\n",
    "            nn.Conv2d(8,16,3,stride=2,padding=1),\n",
    "            nn.BatchNorm2d(16),\n",
    "            nn.ReLU(True),\n",
    "            nn.Conv2d(16,32,3,stride=2,padding=0),\n",
    "            nn.ReLU(True)\n",
    "            )\n",
    "        \n",
    "        self.flatten = nn.Flatten(start_dim=1)\n",
    "\n",
    "        self.denseCode = nn.Sequential(\n",
    "            nn.Linear(288, 128),\n",
    "            nn.ReLU(True),\n",
    "            nn.Linear(128, 2)\n",
    "            )\n",
    "\n",
    "        # Bottle-neck where it's reduced to 2.\n",
    "        # Do everything backwards.\n",
    "\n",
    "        self.decodeDense = nn.Sequential(\n",
    "            nn.Linear(2,128),\n",
    "            nn.ReLU(True),\n",
    "            nn.Linear(128,32),\n",
    "            nn.ReLU(True)\n",
    "        )\n",
    "\n",
    "        # Followed error output for this. \n",
    "        self.unflatten = nn.Unflatten(dim=1, unflattened_size=(32,1,1))\n",
    "\n",
    "\n",
    "\n",
    "        self.convDecode = nn.Sequential(\n",
    "            # ConvTranspose2d, \"known as a deconvolution\" \n",
    "            # Not the exactly the opposite but gets the data back to \n",
    "            # it's precovoluted state.\n",
    "            nn.ConvTranspose2d(32,16,3,stride=2,padding=0),\n",
    "            nn.BatchNorm2d(16),\n",
    "            nn.ReLU(True),\n",
    "            nn.ConvTranspose2d(16,8,3,stride=2,padding=1,output_padding=1),\n",
    "            nn.BatchNorm2d(8),\n",
    "            nn.ReLU(True),\n",
    "            nn.ConvTranspose2d(8,3,23,stride=2,padding=1,output_padding=1)\n",
    "        )\n",
    "\n",
    "    def forward(self, x):\n",
    "        # encode\n",
    "        x = self.encode(x)\n",
    "        x = self.flatten(x)\n",
    "        x = self.denseCode(x)\n",
    "\n",
    "        # decode\n",
    "        x = self.decodeDense(x)\n",
    "        x = self.unflatten(x)\n",
    "        x = self.convDecode(x)\n",
    "        x = torch.sigmoid(x)\n",
    "\n",
    "        return x"
   ]
  },
  {
   "cell_type": "markdown",
   "metadata": {},
   "source": [
    "Create the auto-encoder, called **model**\n",
    "<br>\n",
    "\n",
    "Did a test run to see if inputted training data **Xtrain** comes out the correct\n",
    "shape."
   ]
  },
  {
   "cell_type": "code",
   "execution_count": 78,
   "metadata": {},
   "outputs": [
    {
     "data": {
      "text/plain": [
       "torch.Size([300, 3, 32, 32])"
      ]
     },
     "execution_count": 78,
     "metadata": {},
     "output_type": "execute_result"
    }
   ],
   "source": [
    "model = autoCNN()\n",
    "xhat = model.forward(Xtrain)\n",
    "xhat.shape"
   ]
  },
  {
   "cell_type": "markdown",
   "metadata": {},
   "source": [
    "Define the optimisation method and loss function. "
   ]
  },
  {
   "cell_type": "code",
   "execution_count": 79,
   "metadata": {},
   "outputs": [],
   "source": [
    "# Again similar from tutorial.\n",
    "opt = torch.optim.Adam(model.parameters(), lr = 1e-3)\n",
    "# Standard loss function for CNN\n",
    "# From reading seems to be more suitable given the sigmoid activation.\n",
    "loss = nn.BCELoss()"
   ]
  },
  {
   "cell_type": "markdown",
   "metadata": {},
   "source": [
    "Train the model on the training data.\n",
    "<br>\n",
    "- Takes roughly 1-2 minutes.\n",
    "<br>\n",
    "- Loading bar at the bottom courtesy of Ryan \n",
    "\n",
    "- Stored the losses but didn't use/look at them"
   ]
  },
  {
   "cell_type": "code",
   "execution_count": 80,
   "metadata": {},
   "outputs": [
    {
     "name": "stdout",
     "output_type": "stream",
     "text": [
      "|------------------------------------------------------------------------------|\n",
      " #############################################################################"
     ]
    }
   ],
   "source": [
    "losses = {\n",
    "    'train': [],\n",
    "    'val':   []\n",
    "}\n",
    "print(\"|------------------------------------------------------------------------------|\")\n",
    "print(\" \", end='', flush=True)\n",
    "EPOCH = 500\n",
    "for i in range(EPOCH):\n",
    "    # Forward pass\n",
    "    xhat = model.forward(Xtrain)\n",
    "\n",
    "    # Loss\n",
    "    l = loss(xhat, Xtrain)\n",
    "\n",
    "    # Backward\n",
    "    opt.zero_grad()\n",
    "    l.backward()\n",
    "\n",
    "    # Optimize\n",
    "    opt.step()\n",
    "\n",
    "    # Stats\n",
    "    losses['train'].append(l.detach())\n",
    "    if i in np.floor(np.linspace(start=0, stop=EPOCH, num=78)):\n",
    "        print(\"#\", end='', flush=True)\n",
    "        # print(t, '\\t', loss.item())\n",
    "    "
   ]
  },
  {
   "cell_type": "markdown",
   "metadata": {},
   "source": [
    "## Task 3 - 2D Representation - Training Data\n",
    "<br>\n",
    "Plot the 2D coordinates of all images in the training set with each class denoted by a symbol.\n",
    "<br>\n",
    "\n",
    "To get the embeddings I run the first 3 functions of the model, **encode**, **flatten** and **densecode** to collect all\n",
    "embeddings for the training set. "
   ]
  },
  {
   "cell_type": "code",
   "execution_count": 81,
   "metadata": {},
   "outputs": [],
   "source": [
    "# Helper function for embedding given data\n",
    "# Takes in given X data and the autoencoder model.\n",
    "\n",
    "def embed_data(givenData, givenModel):\n",
    "    embedGiven = model.encode(givenData)\n",
    "    embedGiven = model.flatten(embedGiven)\n",
    "    embedGiven = model.denseCode(embedGiven)\n",
    "\n",
    "    # Couldn't extract the 2D values in it's tensor form.\n",
    "    embedGiven = embedGiven.detach().numpy()\n",
    "\n",
    "    return embedGiven"
   ]
  },
  {
   "cell_type": "code",
   "execution_count": 82,
   "metadata": {},
   "outputs": [],
   "source": [
    "# Code for plotting the embeddings, once the coordinates are extracted. \n",
    "# Each class has it's own specific colour. \n",
    "\n",
    "# This is only used once but could be useful if you were testing new data\n",
    "# with only samples from the 3 target classes.\n",
    "\n",
    "def plot_embeddings(x1, y1, x2, y2, x3, y3, classVals, classCols, classMarks):\n",
    "    plt.scatter(x1, y1, color=classCols[classVals[0]], marker=classMarks[classVals[0]])\n",
    "    plt.scatter(x2, y2, color=classCols[classVals[1]], marker=classMarks[classVals[1]])\n",
    "    plt.scatter(x3, y3, color=classCols[classVals[2]], marker=classMarks[classVals[2]])\n",
    "\n",
    "    class1 = mlines.Line2D([], [], color=classCols[classVals[0]], marker=classMarks[classVals[0]], linestyle='None',\n",
    "                            markersize=10, label=classes[classVals[0]])\n",
    "\n",
    "    class2 = mlines.Line2D([], [], color=classCols[classVals[1]], marker=classMarks[classVals[1]], linestyle='None',\n",
    "                            markersize=10, label=classes[classVals[1]])\n",
    "\n",
    "    class3 = mlines.Line2D([], [], color=classCols[classVals[2]], marker=classMarks[classVals[2]], linestyle='None',\n",
    "                            markersize=10, label=classes[classVals[2]])\n",
    "\n",
    "    plt.legend(handles=[class1, class2, class3], bbox_to_anchor=(1.2,1))\n",
    "    plt.show()"
   ]
  },
  {
   "cell_type": "code",
   "execution_count": 83,
   "metadata": {},
   "outputs": [],
   "source": [
    "# Get the embeddings from the training set \n",
    "train_embed = embed_data(Xtrain, model)"
   ]
  },
  {
   "cell_type": "markdown",
   "metadata": {},
   "source": [
    "- Split the data into X and y coordinates based on which class they belong to. This is achieved by matching the embedded samples with their class from ytrain. \n",
    "\n",
    "- The data should keep the same order after going through the model so can just match in order.\n",
    "\n",
    "- Created a function **plot_lists** that takes in the embedded data, corresponding y values and class numbers that were selected in task 1.\n",
    "\n",
    "- Returns 6 lists that have the values needed to plot the embeddings.\n",
    "\n",
    "I made this function when I was randomly selecting from the training set only. Will do the random samples manually."
   ]
  },
  {
   "cell_type": "code",
   "execution_count": 84,
   "metadata": {},
   "outputs": [],
   "source": [
    "def plot_lists(emedded_data, yValues, classValues):\n",
    "    x1 = []\n",
    "    y1 = []\n",
    "\n",
    "    x2 = []\n",
    "    y2 = []\n",
    "\n",
    "    x3 = []\n",
    "    y3 = []\n",
    "\n",
    "    for i in range (len(emedded_data)):\n",
    "        if(yValues[i] == classValues[0]):\n",
    "            x1.append(emedded_data[i][0])\n",
    "            y1.append(emedded_data[i][1])\n",
    "\n",
    "        elif(yValues[i] == classValues[1]):\n",
    "            x2.append(emedded_data[i][0])\n",
    "            y2.append(emedded_data[i][1])\n",
    "\n",
    "\n",
    "        elif(yValues[i] == classValues[2]):\n",
    "            x3.append(emedded_data[i][0])\n",
    "            y3.append(emedded_data[i][1])\n",
    "\n",
    "    return x1, y1, x2, y2, x3, y3"
   ]
  },
  {
   "cell_type": "code",
   "execution_count": 85,
   "metadata": {},
   "outputs": [],
   "source": [
    "plt1_X, plt1_y, plt2_X, plt2_y, plt3_X, plt3_y = plot_lists(train_embed, ytrain, classNums)"
   ]
  },
  {
   "cell_type": "code",
   "execution_count": 86,
   "metadata": {},
   "outputs": [
    {
     "data": {
      "image/png": "[encoded data removed]",
      "text/plain": [
       "<Figure size 640x480 with 1 Axes>"
      ]
     },
     "metadata": {},
     "output_type": "display_data"
    }
   ],
   "source": [
    "plot_embeddings(plt1_X, plt1_y, plt2_X, plt2_y, plt3_X, plt3_y, classNums, classColour, classMarker)"
   ]
  },
  {
   "cell_type": "markdown",
   "metadata": {},
   "source": [
    "## Task 4 - 2D Representation - Sample data\n",
    "<br>\n",
    "\n",
    "- *Randomly* select 5 images not in the training set.\n",
    "\n",
    "- Similarly to task 3, run the test samples halfway through the auto-encoder to get the 2D embeddings. \n",
    "\n",
    "- Then transform to numpy."
   ]
  },
  {
   "cell_type": "code",
   "execution_count": 96,
   "metadata": {},
   "outputs": [
    {
     "data": {
      "text/plain": [
       "[21957, 9572, 33564, 970, 1713]"
      ]
     },
     "execution_count": 96,
     "metadata": {},
     "output_type": "execute_result"
    }
   ],
   "source": [
    "# Indicies of 5 samples.\n",
    "sample_inds = number_generator(5,0,49999)\n",
    "\n",
    "sample_inds"
   ]
  },
  {
   "cell_type": "code",
   "execution_count": 88,
   "metadata": {},
   "outputs": [
    {
     "data": {
      "text/plain": [
       "5"
      ]
     },
     "execution_count": 88,
     "metadata": {},
     "output_type": "execute_result"
    }
   ],
   "source": [
    "# Take the indicies an get the corresponding data into a list, sample_data\n",
    "\n",
    "sample_data = []\n",
    "for i in range(len(sample_inds)):\n",
    "    sample_data.append(data2[sample_inds[i]])\n",
    "len(sample_data)"
   ]
  },
  {
   "cell_type": "markdown",
   "metadata": {},
   "source": [
    "- Same as code in task one.\n",
    "\n",
    "- y_samples is the label, or class\n",
    "\n",
    "- X_samples is the data."
   ]
  },
  {
   "cell_type": "code",
   "execution_count": 89,
   "metadata": {},
   "outputs": [],
   "source": [
    "y_samples = np.array([sample_data[i][1] for i in range(len(sample_data))])\n",
    "X_samples = np.array([np.array(sample_data[i][0]) for i in range(len(sample_data))])\n",
    "\n",
    "X_samples = torch.tensor(X_samples).float()"
   ]
  },
  {
   "cell_type": "markdown",
   "metadata": {},
   "source": [
    "Had to use **item()** to make the values in **y_tester** int.\n"
   ]
  },
  {
   "cell_type": "code",
   "execution_count": 90,
   "metadata": {},
   "outputs": [],
   "source": [
    "for i in range(len(y_samples)):\n",
    "    y_samples[i] = y_samples[i].item()"
   ]
  },
  {
   "cell_type": "code",
   "execution_count": 91,
   "metadata": {},
   "outputs": [],
   "source": [
    "# Run the 5 samples through the model to extract the embeddings.\n",
    "sample_embed = embed_data(X_samples, model)"
   ]
  },
  {
   "cell_type": "markdown",
   "metadata": {},
   "source": [
    "- I greyed out the original plot points to make it clear where the ones are/what colour they are. Also made the new points larger."
   ]
  },
  {
   "cell_type": "code",
   "execution_count": 92,
   "metadata": {},
   "outputs": [
    {
     "data": {
      "image/png": "[encoded data removed]",
      "text/plain": [
       "<Figure size 640x480 with 1 Axes>"
      ]
     },
     "metadata": {},
     "output_type": "display_data"
    }
   ],
   "source": [
    "plt.scatter(plt1_X, plt1_y, color='lightgrey', marker=classMarker[classNums[0]])\n",
    "plt.scatter(plt2_X, plt2_y, color='darkgrey', marker=classMarker[classNums[1]])\n",
    "plt.scatter(plt3_X,plt3_y, color='dimgray', marker=classMarker[classNums[2]])\n",
    "\n",
    "for i in range(len(sample_embed)):\n",
    "    plt.scatter(sample_embed[i][0],sample_embed[i][1], color=classColour[y_samples[i]], marker=classMarker[y_samples[i]], s =140)\n",
    "\n",
    "plot_class = []\n",
    "\n",
    "for i  in range(10):\n",
    "    cl = mlines.Line2D([], [], color=classColour[i], marker=classMarker[i], linestyle='None',\n",
    "                        markersize=10, label=classes[i])\n",
    "    plot_class.append(cl)\n",
    "\n",
    "plt.legend(handles=[plot_class[0], plot_class[1], plot_class[2], plot_class[3], plot_class[4], \n",
    "            plot_class[5], plot_class[6], plot_class[7], plot_class[8], plot_class[9]], bbox_to_anchor=(1.2,1))\n",
    "plt.show()"
   ]
  },
  {
   "cell_type": "code",
   "execution_count": 93,
   "metadata": {},
   "outputs": [
    {
     "data": {
      "image/png": "[encoded data removed]",
      "text/plain": [
       "<Figure size 640x480 with 1 Axes>"
      ]
     },
     "metadata": {},
     "output_type": "display_data"
    }
   ],
   "source": [
    "plt.scatter(plt1_X, plt1_y, color=classColour[classNums[0]], marker=classMarker[classNums[0]])\n",
    "plt.scatter(plt2_X, plt2_y, color=classColour[classNums[1]], marker=classMarker[classNums[1]])\n",
    "plt.scatter(plt3_X,plt3_y, color=classColour[classNums[2]], marker=classMarker[classNums[2]])\n",
    "\n",
    "for i in range(len(sample_embed)):\n",
    "    plt.scatter(sample_embed[i][0],sample_embed[i][1], color=classColour[y_samples[i]], marker=classMarker[y_samples[i]], s =140)\n",
    "\n",
    "plot_class = []\n",
    "\n",
    "for i  in range(10):\n",
    "    cl = mlines.Line2D([], [], color=classColour[i], marker=classMarker[i], linestyle='None',\n",
    "                        markersize=10, label=classes[i])\n",
    "    plot_class.append(cl)\n",
    "\n",
    "plt.legend(handles=[plot_class[0], plot_class[1], plot_class[2], plot_class[3], plot_class[4], \n",
    "            plot_class[5], plot_class[6], plot_class[7], plot_class[8], plot_class[9]], bbox_to_anchor=(1.2,1))\n",
    "plt.show()"
   ]
  },
  {
   "cell_type": "markdown",
   "metadata": {},
   "source": [
    "#### Comment on plot: \n",
    "\n",
    "This will be included in the readme file since plots will be different each time the program is run.\n"
   ]
  }
 ],
 "metadata": {
  "kernelspec": {
   "display_name": "Python 3 (ipykernel)",
   "language": "python",
   "name": "python3"
  },
  "language_info": {
   "codemirror_mode": {
    "name": "ipython",
    "version": 3
   },
   "file_extension": ".py",
   "mimetype": "text/x-python",
   "name": "python",
   "nbconvert_exporter": "python",
   "pygments_lexer": "ipython3",
   "version": "3.8.8"
  },
  "vscode": {
   "interpreter": {
    "hash": "e7370f93d1d0cde622a1f8e1c04877d8463912d04d973331ad4851f04de6915a"
   }
  }
 },
 "nbformat": 4,
 "nbformat_minor": 2
}
